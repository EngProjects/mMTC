{
  "cells": [
    {
      "cell_type": "code",
      "execution_count": null,
      "metadata": {
        "id": "PpY_6gIFJ8ma"
      },
      "outputs": [],
      "source": [
        "!pip install sionna"
      ]
    },
    {
      "cell_type": "code",
      "execution_count": null,
      "metadata": {},
      "outputs": [],
      "source": [
        "import tensorflow as tf\n",
        "from tensorflow.keras import Model\n",
        "import numpy as np\n",
        "import sionna as sn\n",
        "import matplotlib.pyplot as plt "
      ]
    },
    {
      "attachments": {},
      "cell_type": "markdown",
      "metadata": {
        "id": "pXUXEAWEc5RG"
      },
      "source": [
        "Visualize Constellation"
      ]
    },
    {
      "cell_type": "code",
      "execution_count": null,
      "metadata": {
        "colab": {
          "base_uri": "https://localhost:8080/",
          "height": 1000
        },
        "id": "Yb2-jqH0KOF4",
        "outputId": "9f723269-a054-457e-8317-28655c2a7e4b"
      },
      "outputs": [],
      "source": [
        "const = sn.mapping.Constellation(\"pam\", num_bits_per_symbol=2)\n",
        "const.show()"
      ]
    },
    {
      "attachments": {},
      "cell_type": "markdown",
      "metadata": {
        "id": "E8grr14PdNan"
      },
      "source": [
        "Simulate 5G LDPC Code over AWGN Channel"
      ]
    },
    {
      "cell_type": "code",
      "execution_count": null,
      "metadata": {
        "id": "dHQyiiL7LCDx"
      },
      "outputs": [],
      "source": [
        "class LDPC_4PAM_BICM(Model):\n",
        "    def __init__(self, num_bits_per_symbol, n, coderate, num_iterations, batch_size):\n",
        "        super().__init__()\n",
        "\n",
        "        self.num_bits_per_symbol = num_bits_per_symbol\n",
        "        self.n = n\n",
        "        self.k = int(n*coderate)\n",
        "        self.coderate = coderate\n",
        "        self.num_iterations = num_iterations\n",
        "        self.batch_size = batch_size\n",
        "        self.constellation = sn.mapping.Constellation(\"pam\", self.num_bits_per_symbol)\n",
        "\n",
        "        self.interleaver = sn.fec.interleaving.RandomInterleaver(dtype=tf.float32, axis=1)\n",
        "        self.deinterleaver = sn.fec.interleaving.Deinterleaver(self.interleaver, dtype=tf.float32)\n",
        "\n",
        "        self.mapper = sn.mapping.Mapper(constellation=self.constellation)\n",
        "        self.demapper = sn.mapping.Demapper(\"app\", constellation=self.constellation, with_prior=True)\n",
        "\n",
        "        self.binary_source = sn.utils.BinarySource()\n",
        "        self.awgn_channel = sn.channel.AWGN()\n",
        "\n",
        "        self.encoder = sn.fec.ldpc.LDPC5GEncoder(self.k, self.n)\n",
        "        self.soft_decoder = sn.fec.ldpc.LDPC5GDecoder(self.encoder, hard_out=False, return_infobits=False)\n",
        "        self.hard_decoder = sn.fec.ldpc.LDPC5GDecoder(self.encoder, hard_out=True, return_infobits=True)\n",
        "\n",
        "    # @tf.function\n",
        "    def __call__(self, batch_size, ebno_db):\n",
        "\n",
        "        # Get N0 for current Eb/N0 value\n",
        "        no = sn.utils.ebnodb2no(ebno_db, num_bits_per_symbol=self.num_bits_per_symbol, coderate=self.coderate)\n",
        "\n",
        "        # Encoding\n",
        "        bits = self.binary_source([batch_size, self.k])\n",
        "        codewords = self.encoder(bits)\n",
        "        interleaved_codewords = self.interleaver(codewords)\n",
        "        x = self.mapper(interleaved_codewords)\n",
        "\n",
        "        # Channel\n",
        "        y = self.awgn_channel([x, no])\n",
        "\n",
        "        # Decoding\n",
        "        demapper_priors = tf.zeros([self.batch_size, self.n//2, self.num_bits_per_symbol])\n",
        "        demapper_llrs = self.demapper([y, demapper_priors, no])\n",
        "\n",
        "        for idxit in range(self.num_iterations):\n",
        "\n",
        "          # Subtract priors from demapper output\n",
        "          demapper_extrinsic_llrs = demapper_llrs - tf.reshape(demapper_priors, [self.batch_size, self.n])\n",
        "\n",
        "          # Deinterleave demapper extrinsic information\n",
        "          decoder_priors = tf.clip_by_value(self.deinterleaver(demapper_extrinsic_llrs), -20, 20)\n",
        "\n",
        "          # Run SISO LDPC decoder\n",
        "          decoder_llrs = self.soft_decoder(decoder_priors)\n",
        "\n",
        "          # Subtract priors from decoder output\n",
        "          decoder_extrinsic_llrs = decoder_llrs - decoder_priors\n",
        "\n",
        "          # Interleave decoder extrinsic information\n",
        "          demapper_priors = self.interleaver(decoder_extrinsic_llrs)\n",
        "\n",
        "          # Demap channel outputs with new prior information\n",
        "          demapper_priors = tf.reshape(demapper_priors, [self.batch_size, self.n//2, self.num_bits_per_symbol])\n",
        "          demapper_llrs = self.demapper([y, demapper_priors, no])\n",
        "\n",
        "        # Deinterleave channel outputs\n",
        "        deinterleaved_llrs = self.deinterleaver(demapper_llrs)\n",
        "\n",
        "        # Pass through hard decision decoder\n",
        "        bits_hat = self.hard_decoder(deinterleaved_llrs)\n",
        "\n",
        "        # Return results\n",
        "        return bits, bits_hat"
      ]
    },
    {
      "cell_type": "code",
      "execution_count": null,
      "metadata": {
        "id": "jR47pEX3zLZ6"
      },
      "outputs": [],
      "source": [
        "# Modulation Parameters\n",
        "bits_per_symbol = 2\n",
        "\n",
        "# Code Parameters\n",
        "k = 5888\n",
        "n = 7350*bits_per_symbol\n",
        "r = k/n\n",
        "\n",
        "# Simulation Parameters\n",
        "snrs_to_test = np.array([1.0, 1.25, 1.5, 1.75, 2.0, 2.25, 2.5, 2.75])\n",
        "batch_size = 2000\n",
        "target_block_errors = 750\n",
        "max_mc_iterations = 50\n",
        "num_iterations = 3\n",
        "\n",
        "# Define Simulations\n",
        "ldpc_4_pam_bicm = LDPC_4PAM_BICM(num_bits_per_symbol=bits_per_symbol, n=n, coderate=r, num_iterations=num_iterations, batch_size=batch_size)"
      ]
    },
    {
      "cell_type": "code",
      "execution_count": null,
      "metadata": {
        "id": "-ZdEewJM3wO9"
      },
      "outputs": [],
      "source": [
        "ber_plots = sn.utils.PlotBER(\"4-PAM NR LDPC BICM\")\n",
        "ber_plots.simulate(ldpc_4_pam_bicm,\n",
        "                   ebno_dbs=snrs_to_test,\n",
        "                   batch_size=batch_size,\n",
        "                   num_target_block_errors=target_block_errors,\n",
        "                   legend=\"4-PAM NR LDPC BICM\",\n",
        "                   soft_estimates=False,\n",
        "                   max_mc_iter=max_mc_iterations,\n",
        "                   show_fig=False,\n",
        "                   forward_keyboard_interrupt=False);"
      ]
    }
  ],
  "metadata": {
    "accelerator": "GPU",
    "colab": {
      "provenance": []
    },
    "gpuClass": "standard",
    "kernelspec": {
      "display_name": "Python 3",
      "name": "python3"
    },
    "language_info": {
      "name": "python"
    }
  },
  "nbformat": 4,
  "nbformat_minor": 0
}
